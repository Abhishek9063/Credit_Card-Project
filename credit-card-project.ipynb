{
 "cells": [
  {
   "cell_type": "code",
   "execution_count": 1,
   "id": "81707d7c",
   "metadata": {
    "_cell_guid": "b1076dfc-b9ad-4769-8c92-a6c4dae69d19",
    "_uuid": "8f2839f25d086af736a60e9eeb907d3b93b6e0e5",
    "execution": {
     "iopub.execute_input": "2023-02-03T04:53:05.587719Z",
     "iopub.status.busy": "2023-02-03T04:53:05.587276Z",
     "iopub.status.idle": "2023-02-03T04:53:05.605063Z",
     "shell.execute_reply": "2023-02-03T04:53:05.603920Z"
    },
    "papermill": {
     "duration": 0.032465,
     "end_time": "2023-02-03T04:53:05.607834",
     "exception": false,
     "start_time": "2023-02-03T04:53:05.575369",
     "status": "completed"
    },
    "tags": []
   },
   "outputs": [
    {
     "name": "stdout",
     "output_type": "stream",
     "text": [
      "/kaggle/input/creditcardfraud/creditcard.csv\n"
     ]
    }
   ],
   "source": [
    "# This Python 3 environment comes with many helpful analytics libraries installed\n",
    "# It is defined by the kaggle/python Docker image: https://github.com/kaggle/docker-python\n",
    "# For example, here's several helpful packages to load\n",
    "\n",
    "import numpy as np # linear algebra\n",
    "import pandas as pd # data processing, CSV file I/O (e.g. pd.read_csv)\n",
    "\n",
    "# Input data files are available in the read-only \"../input/\" directory\n",
    "# For example, running this (by clicking run or pressing Shift+Enter) will list all files under the input directory\n",
    "\n",
    "import os\n",
    "for dirname, _, filenames in os.walk('/kaggle/input'):\n",
    "    for filename in filenames:\n",
    "        print(os.path.join(dirname, filename))\n",
    "\n",
    "# You can write up to 20GB to the current directory (/kaggle/working/) that gets preserved as output when you create a version using \"Save & Run All\" \n",
    "# You can also write temporary files to /kaggle/temp/, but they won't be saved outside of the current session"
   ]
  },
  {
   "cell_type": "code",
   "execution_count": 2,
   "id": "f275ffe8",
   "metadata": {
    "execution": {
     "iopub.execute_input": "2023-02-03T04:53:05.628401Z",
     "iopub.status.busy": "2023-02-03T04:53:05.627028Z",
     "iopub.status.idle": "2023-02-03T04:53:06.624731Z",
     "shell.execute_reply": "2023-02-03T04:53:06.623522Z"
    },
    "papermill": {
     "duration": 1.010489,
     "end_time": "2023-02-03T04:53:06.627650",
     "exception": false,
     "start_time": "2023-02-03T04:53:05.617161",
     "status": "completed"
    },
    "tags": []
   },
   "outputs": [],
   "source": [
    "import numpy as np\n",
    "import pandas as pd\n",
    "from sklearn.model_selection import train_test_split\n",
    "from sklearn.linear_model import LogisticRegression\n",
    "from sklearn.metrics import accuracy_score"
   ]
  },
  {
   "cell_type": "code",
   "execution_count": 3,
   "id": "a7becb85",
   "metadata": {
    "execution": {
     "iopub.execute_input": "2023-02-03T04:53:06.646847Z",
     "iopub.status.busy": "2023-02-03T04:53:06.645868Z",
     "iopub.status.idle": "2023-02-03T04:53:11.196058Z",
     "shell.execute_reply": "2023-02-03T04:53:11.194901Z"
    },
    "papermill": {
     "duration": 4.562355,
     "end_time": "2023-02-03T04:53:11.198712",
     "exception": false,
     "start_time": "2023-02-03T04:53:06.636357",
     "status": "completed"
    },
    "tags": []
   },
   "outputs": [],
   "source": [
    "# loading the dataset to a Pandas DataFrame\n",
    "df=pd.read_csv(\"/kaggle/input/creditcardfraud/creditcard.csv\")"
   ]
  },
  {
   "cell_type": "code",
   "execution_count": 4,
   "id": "a4c60206",
   "metadata": {
    "execution": {
     "iopub.execute_input": "2023-02-03T04:53:11.217649Z",
     "iopub.status.busy": "2023-02-03T04:53:11.216637Z",
     "iopub.status.idle": "2023-02-03T04:53:11.251270Z",
     "shell.execute_reply": "2023-02-03T04:53:11.250149Z"
    },
    "papermill": {
     "duration": 0.046639,
     "end_time": "2023-02-03T04:53:11.253859",
     "exception": false,
     "start_time": "2023-02-03T04:53:11.207220",
     "status": "completed"
    },
    "tags": []
   },
   "outputs": [
    {
     "data": {
      "text/html": [
       "<div>\n",
       "<style scoped>\n",
       "    .dataframe tbody tr th:only-of-type {\n",
       "        vertical-align: middle;\n",
       "    }\n",
       "\n",
       "    .dataframe tbody tr th {\n",
       "        vertical-align: top;\n",
       "    }\n",
       "\n",
       "    .dataframe thead th {\n",
       "        text-align: right;\n",
       "    }\n",
       "</style>\n",
       "<table border=\"1\" class=\"dataframe\">\n",
       "  <thead>\n",
       "    <tr style=\"text-align: right;\">\n",
       "      <th></th>\n",
       "      <th>Time</th>\n",
       "      <th>V1</th>\n",
       "      <th>V2</th>\n",
       "      <th>V3</th>\n",
       "      <th>V4</th>\n",
       "      <th>V5</th>\n",
       "      <th>V6</th>\n",
       "      <th>V7</th>\n",
       "      <th>V8</th>\n",
       "      <th>V9</th>\n",
       "      <th>...</th>\n",
       "      <th>V21</th>\n",
       "      <th>V22</th>\n",
       "      <th>V23</th>\n",
       "      <th>V24</th>\n",
       "      <th>V25</th>\n",
       "      <th>V26</th>\n",
       "      <th>V27</th>\n",
       "      <th>V28</th>\n",
       "      <th>Amount</th>\n",
       "      <th>Class</th>\n",
       "    </tr>\n",
       "  </thead>\n",
       "  <tbody>\n",
       "    <tr>\n",
       "      <th>0</th>\n",
       "      <td>0.0</td>\n",
       "      <td>-1.359807</td>\n",
       "      <td>-0.072781</td>\n",
       "      <td>2.536347</td>\n",
       "      <td>1.378155</td>\n",
       "      <td>-0.338321</td>\n",
       "      <td>0.462388</td>\n",
       "      <td>0.239599</td>\n",
       "      <td>0.098698</td>\n",
       "      <td>0.363787</td>\n",
       "      <td>...</td>\n",
       "      <td>-0.018307</td>\n",
       "      <td>0.277838</td>\n",
       "      <td>-0.110474</td>\n",
       "      <td>0.066928</td>\n",
       "      <td>0.128539</td>\n",
       "      <td>-0.189115</td>\n",
       "      <td>0.133558</td>\n",
       "      <td>-0.021053</td>\n",
       "      <td>149.62</td>\n",
       "      <td>0</td>\n",
       "    </tr>\n",
       "    <tr>\n",
       "      <th>1</th>\n",
       "      <td>0.0</td>\n",
       "      <td>1.191857</td>\n",
       "      <td>0.266151</td>\n",
       "      <td>0.166480</td>\n",
       "      <td>0.448154</td>\n",
       "      <td>0.060018</td>\n",
       "      <td>-0.082361</td>\n",
       "      <td>-0.078803</td>\n",
       "      <td>0.085102</td>\n",
       "      <td>-0.255425</td>\n",
       "      <td>...</td>\n",
       "      <td>-0.225775</td>\n",
       "      <td>-0.638672</td>\n",
       "      <td>0.101288</td>\n",
       "      <td>-0.339846</td>\n",
       "      <td>0.167170</td>\n",
       "      <td>0.125895</td>\n",
       "      <td>-0.008983</td>\n",
       "      <td>0.014724</td>\n",
       "      <td>2.69</td>\n",
       "      <td>0</td>\n",
       "    </tr>\n",
       "    <tr>\n",
       "      <th>2</th>\n",
       "      <td>1.0</td>\n",
       "      <td>-1.358354</td>\n",
       "      <td>-1.340163</td>\n",
       "      <td>1.773209</td>\n",
       "      <td>0.379780</td>\n",
       "      <td>-0.503198</td>\n",
       "      <td>1.800499</td>\n",
       "      <td>0.791461</td>\n",
       "      <td>0.247676</td>\n",
       "      <td>-1.514654</td>\n",
       "      <td>...</td>\n",
       "      <td>0.247998</td>\n",
       "      <td>0.771679</td>\n",
       "      <td>0.909412</td>\n",
       "      <td>-0.689281</td>\n",
       "      <td>-0.327642</td>\n",
       "      <td>-0.139097</td>\n",
       "      <td>-0.055353</td>\n",
       "      <td>-0.059752</td>\n",
       "      <td>378.66</td>\n",
       "      <td>0</td>\n",
       "    </tr>\n",
       "    <tr>\n",
       "      <th>3</th>\n",
       "      <td>1.0</td>\n",
       "      <td>-0.966272</td>\n",
       "      <td>-0.185226</td>\n",
       "      <td>1.792993</td>\n",
       "      <td>-0.863291</td>\n",
       "      <td>-0.010309</td>\n",
       "      <td>1.247203</td>\n",
       "      <td>0.237609</td>\n",
       "      <td>0.377436</td>\n",
       "      <td>-1.387024</td>\n",
       "      <td>...</td>\n",
       "      <td>-0.108300</td>\n",
       "      <td>0.005274</td>\n",
       "      <td>-0.190321</td>\n",
       "      <td>-1.175575</td>\n",
       "      <td>0.647376</td>\n",
       "      <td>-0.221929</td>\n",
       "      <td>0.062723</td>\n",
       "      <td>0.061458</td>\n",
       "      <td>123.50</td>\n",
       "      <td>0</td>\n",
       "    </tr>\n",
       "    <tr>\n",
       "      <th>4</th>\n",
       "      <td>2.0</td>\n",
       "      <td>-1.158233</td>\n",
       "      <td>0.877737</td>\n",
       "      <td>1.548718</td>\n",
       "      <td>0.403034</td>\n",
       "      <td>-0.407193</td>\n",
       "      <td>0.095921</td>\n",
       "      <td>0.592941</td>\n",
       "      <td>-0.270533</td>\n",
       "      <td>0.817739</td>\n",
       "      <td>...</td>\n",
       "      <td>-0.009431</td>\n",
       "      <td>0.798278</td>\n",
       "      <td>-0.137458</td>\n",
       "      <td>0.141267</td>\n",
       "      <td>-0.206010</td>\n",
       "      <td>0.502292</td>\n",
       "      <td>0.219422</td>\n",
       "      <td>0.215153</td>\n",
       "      <td>69.99</td>\n",
       "      <td>0</td>\n",
       "    </tr>\n",
       "  </tbody>\n",
       "</table>\n",
       "<p>5 rows × 31 columns</p>\n",
       "</div>"
      ],
      "text/plain": [
       "   Time        V1        V2        V3        V4        V5        V6        V7  \\\n",
       "0   0.0 -1.359807 -0.072781  2.536347  1.378155 -0.338321  0.462388  0.239599   \n",
       "1   0.0  1.191857  0.266151  0.166480  0.448154  0.060018 -0.082361 -0.078803   \n",
       "2   1.0 -1.358354 -1.340163  1.773209  0.379780 -0.503198  1.800499  0.791461   \n",
       "3   1.0 -0.966272 -0.185226  1.792993 -0.863291 -0.010309  1.247203  0.237609   \n",
       "4   2.0 -1.158233  0.877737  1.548718  0.403034 -0.407193  0.095921  0.592941   \n",
       "\n",
       "         V8        V9  ...       V21       V22       V23       V24       V25  \\\n",
       "0  0.098698  0.363787  ... -0.018307  0.277838 -0.110474  0.066928  0.128539   \n",
       "1  0.085102 -0.255425  ... -0.225775 -0.638672  0.101288 -0.339846  0.167170   \n",
       "2  0.247676 -1.514654  ...  0.247998  0.771679  0.909412 -0.689281 -0.327642   \n",
       "3  0.377436 -1.387024  ... -0.108300  0.005274 -0.190321 -1.175575  0.647376   \n",
       "4 -0.270533  0.817739  ... -0.009431  0.798278 -0.137458  0.141267 -0.206010   \n",
       "\n",
       "        V26       V27       V28  Amount  Class  \n",
       "0 -0.189115  0.133558 -0.021053  149.62      0  \n",
       "1  0.125895 -0.008983  0.014724    2.69      0  \n",
       "2 -0.139097 -0.055353 -0.059752  378.66      0  \n",
       "3 -0.221929  0.062723  0.061458  123.50      0  \n",
       "4  0.502292  0.219422  0.215153   69.99      0  \n",
       "\n",
       "[5 rows x 31 columns]"
      ]
     },
     "execution_count": 4,
     "metadata": {},
     "output_type": "execute_result"
    }
   ],
   "source": [
    "# first 5 rows of the dataset\n",
    "df.head()"
   ]
  },
  {
   "cell_type": "code",
   "execution_count": 5,
   "id": "593e5b41",
   "metadata": {
    "execution": {
     "iopub.execute_input": "2023-02-03T04:53:11.273471Z",
     "iopub.status.busy": "2023-02-03T04:53:11.272672Z",
     "iopub.status.idle": "2023-02-03T04:53:11.298044Z",
     "shell.execute_reply": "2023-02-03T04:53:11.296912Z"
    },
    "papermill": {
     "duration": 0.037848,
     "end_time": "2023-02-03T04:53:11.300572",
     "exception": false,
     "start_time": "2023-02-03T04:53:11.262724",
     "status": "completed"
    },
    "tags": []
   },
   "outputs": [
    {
     "data": {
      "text/html": [
       "<div>\n",
       "<style scoped>\n",
       "    .dataframe tbody tr th:only-of-type {\n",
       "        vertical-align: middle;\n",
       "    }\n",
       "\n",
       "    .dataframe tbody tr th {\n",
       "        vertical-align: top;\n",
       "    }\n",
       "\n",
       "    .dataframe thead th {\n",
       "        text-align: right;\n",
       "    }\n",
       "</style>\n",
       "<table border=\"1\" class=\"dataframe\">\n",
       "  <thead>\n",
       "    <tr style=\"text-align: right;\">\n",
       "      <th></th>\n",
       "      <th>Time</th>\n",
       "      <th>V1</th>\n",
       "      <th>V2</th>\n",
       "      <th>V3</th>\n",
       "      <th>V4</th>\n",
       "      <th>V5</th>\n",
       "      <th>V6</th>\n",
       "      <th>V7</th>\n",
       "      <th>V8</th>\n",
       "      <th>V9</th>\n",
       "      <th>...</th>\n",
       "      <th>V21</th>\n",
       "      <th>V22</th>\n",
       "      <th>V23</th>\n",
       "      <th>V24</th>\n",
       "      <th>V25</th>\n",
       "      <th>V26</th>\n",
       "      <th>V27</th>\n",
       "      <th>V28</th>\n",
       "      <th>Amount</th>\n",
       "      <th>Class</th>\n",
       "    </tr>\n",
       "  </thead>\n",
       "  <tbody>\n",
       "    <tr>\n",
       "      <th>284802</th>\n",
       "      <td>172786.0</td>\n",
       "      <td>-11.881118</td>\n",
       "      <td>10.071785</td>\n",
       "      <td>-9.834783</td>\n",
       "      <td>-2.066656</td>\n",
       "      <td>-5.364473</td>\n",
       "      <td>-2.606837</td>\n",
       "      <td>-4.918215</td>\n",
       "      <td>7.305334</td>\n",
       "      <td>1.914428</td>\n",
       "      <td>...</td>\n",
       "      <td>0.213454</td>\n",
       "      <td>0.111864</td>\n",
       "      <td>1.014480</td>\n",
       "      <td>-0.509348</td>\n",
       "      <td>1.436807</td>\n",
       "      <td>0.250034</td>\n",
       "      <td>0.943651</td>\n",
       "      <td>0.823731</td>\n",
       "      <td>0.77</td>\n",
       "      <td>0</td>\n",
       "    </tr>\n",
       "    <tr>\n",
       "      <th>284803</th>\n",
       "      <td>172787.0</td>\n",
       "      <td>-0.732789</td>\n",
       "      <td>-0.055080</td>\n",
       "      <td>2.035030</td>\n",
       "      <td>-0.738589</td>\n",
       "      <td>0.868229</td>\n",
       "      <td>1.058415</td>\n",
       "      <td>0.024330</td>\n",
       "      <td>0.294869</td>\n",
       "      <td>0.584800</td>\n",
       "      <td>...</td>\n",
       "      <td>0.214205</td>\n",
       "      <td>0.924384</td>\n",
       "      <td>0.012463</td>\n",
       "      <td>-1.016226</td>\n",
       "      <td>-0.606624</td>\n",
       "      <td>-0.395255</td>\n",
       "      <td>0.068472</td>\n",
       "      <td>-0.053527</td>\n",
       "      <td>24.79</td>\n",
       "      <td>0</td>\n",
       "    </tr>\n",
       "    <tr>\n",
       "      <th>284804</th>\n",
       "      <td>172788.0</td>\n",
       "      <td>1.919565</td>\n",
       "      <td>-0.301254</td>\n",
       "      <td>-3.249640</td>\n",
       "      <td>-0.557828</td>\n",
       "      <td>2.630515</td>\n",
       "      <td>3.031260</td>\n",
       "      <td>-0.296827</td>\n",
       "      <td>0.708417</td>\n",
       "      <td>0.432454</td>\n",
       "      <td>...</td>\n",
       "      <td>0.232045</td>\n",
       "      <td>0.578229</td>\n",
       "      <td>-0.037501</td>\n",
       "      <td>0.640134</td>\n",
       "      <td>0.265745</td>\n",
       "      <td>-0.087371</td>\n",
       "      <td>0.004455</td>\n",
       "      <td>-0.026561</td>\n",
       "      <td>67.88</td>\n",
       "      <td>0</td>\n",
       "    </tr>\n",
       "    <tr>\n",
       "      <th>284805</th>\n",
       "      <td>172788.0</td>\n",
       "      <td>-0.240440</td>\n",
       "      <td>0.530483</td>\n",
       "      <td>0.702510</td>\n",
       "      <td>0.689799</td>\n",
       "      <td>-0.377961</td>\n",
       "      <td>0.623708</td>\n",
       "      <td>-0.686180</td>\n",
       "      <td>0.679145</td>\n",
       "      <td>0.392087</td>\n",
       "      <td>...</td>\n",
       "      <td>0.265245</td>\n",
       "      <td>0.800049</td>\n",
       "      <td>-0.163298</td>\n",
       "      <td>0.123205</td>\n",
       "      <td>-0.569159</td>\n",
       "      <td>0.546668</td>\n",
       "      <td>0.108821</td>\n",
       "      <td>0.104533</td>\n",
       "      <td>10.00</td>\n",
       "      <td>0</td>\n",
       "    </tr>\n",
       "    <tr>\n",
       "      <th>284806</th>\n",
       "      <td>172792.0</td>\n",
       "      <td>-0.533413</td>\n",
       "      <td>-0.189733</td>\n",
       "      <td>0.703337</td>\n",
       "      <td>-0.506271</td>\n",
       "      <td>-0.012546</td>\n",
       "      <td>-0.649617</td>\n",
       "      <td>1.577006</td>\n",
       "      <td>-0.414650</td>\n",
       "      <td>0.486180</td>\n",
       "      <td>...</td>\n",
       "      <td>0.261057</td>\n",
       "      <td>0.643078</td>\n",
       "      <td>0.376777</td>\n",
       "      <td>0.008797</td>\n",
       "      <td>-0.473649</td>\n",
       "      <td>-0.818267</td>\n",
       "      <td>-0.002415</td>\n",
       "      <td>0.013649</td>\n",
       "      <td>217.00</td>\n",
       "      <td>0</td>\n",
       "    </tr>\n",
       "  </tbody>\n",
       "</table>\n",
       "<p>5 rows × 31 columns</p>\n",
       "</div>"
      ],
      "text/plain": [
       "            Time         V1         V2        V3        V4        V5  \\\n",
       "284802  172786.0 -11.881118  10.071785 -9.834783 -2.066656 -5.364473   \n",
       "284803  172787.0  -0.732789  -0.055080  2.035030 -0.738589  0.868229   \n",
       "284804  172788.0   1.919565  -0.301254 -3.249640 -0.557828  2.630515   \n",
       "284805  172788.0  -0.240440   0.530483  0.702510  0.689799 -0.377961   \n",
       "284806  172792.0  -0.533413  -0.189733  0.703337 -0.506271 -0.012546   \n",
       "\n",
       "              V6        V7        V8        V9  ...       V21       V22  \\\n",
       "284802 -2.606837 -4.918215  7.305334  1.914428  ...  0.213454  0.111864   \n",
       "284803  1.058415  0.024330  0.294869  0.584800  ...  0.214205  0.924384   \n",
       "284804  3.031260 -0.296827  0.708417  0.432454  ...  0.232045  0.578229   \n",
       "284805  0.623708 -0.686180  0.679145  0.392087  ...  0.265245  0.800049   \n",
       "284806 -0.649617  1.577006 -0.414650  0.486180  ...  0.261057  0.643078   \n",
       "\n",
       "             V23       V24       V25       V26       V27       V28  Amount  \\\n",
       "284802  1.014480 -0.509348  1.436807  0.250034  0.943651  0.823731    0.77   \n",
       "284803  0.012463 -1.016226 -0.606624 -0.395255  0.068472 -0.053527   24.79   \n",
       "284804 -0.037501  0.640134  0.265745 -0.087371  0.004455 -0.026561   67.88   \n",
       "284805 -0.163298  0.123205 -0.569159  0.546668  0.108821  0.104533   10.00   \n",
       "284806  0.376777  0.008797 -0.473649 -0.818267 -0.002415  0.013649  217.00   \n",
       "\n",
       "        Class  \n",
       "284802      0  \n",
       "284803      0  \n",
       "284804      0  \n",
       "284805      0  \n",
       "284806      0  \n",
       "\n",
       "[5 rows x 31 columns]"
      ]
     },
     "execution_count": 5,
     "metadata": {},
     "output_type": "execute_result"
    }
   ],
   "source": [
    "df.tail()"
   ]
  },
  {
   "cell_type": "code",
   "execution_count": 6,
   "id": "d3d1c880",
   "metadata": {
    "execution": {
     "iopub.execute_input": "2023-02-03T04:53:11.321174Z",
     "iopub.status.busy": "2023-02-03T04:53:11.320078Z",
     "iopub.status.idle": "2023-02-03T04:53:11.361940Z",
     "shell.execute_reply": "2023-02-03T04:53:11.360857Z"
    },
    "papermill": {
     "duration": 0.055127,
     "end_time": "2023-02-03T04:53:11.364808",
     "exception": false,
     "start_time": "2023-02-03T04:53:11.309681",
     "status": "completed"
    },
    "tags": []
   },
   "outputs": [
    {
     "name": "stdout",
     "output_type": "stream",
     "text": [
      "<class 'pandas.core.frame.DataFrame'>\n",
      "RangeIndex: 284807 entries, 0 to 284806\n",
      "Data columns (total 31 columns):\n",
      " #   Column  Non-Null Count   Dtype  \n",
      "---  ------  --------------   -----  \n",
      " 0   Time    284807 non-null  float64\n",
      " 1   V1      284807 non-null  float64\n",
      " 2   V2      284807 non-null  float64\n",
      " 3   V3      284807 non-null  float64\n",
      " 4   V4      284807 non-null  float64\n",
      " 5   V5      284807 non-null  float64\n",
      " 6   V6      284807 non-null  float64\n",
      " 7   V7      284807 non-null  float64\n",
      " 8   V8      284807 non-null  float64\n",
      " 9   V9      284807 non-null  float64\n",
      " 10  V10     284807 non-null  float64\n",
      " 11  V11     284807 non-null  float64\n",
      " 12  V12     284807 non-null  float64\n",
      " 13  V13     284807 non-null  float64\n",
      " 14  V14     284807 non-null  float64\n",
      " 15  V15     284807 non-null  float64\n",
      " 16  V16     284807 non-null  float64\n",
      " 17  V17     284807 non-null  float64\n",
      " 18  V18     284807 non-null  float64\n",
      " 19  V19     284807 non-null  float64\n",
      " 20  V20     284807 non-null  float64\n",
      " 21  V21     284807 non-null  float64\n",
      " 22  V22     284807 non-null  float64\n",
      " 23  V23     284807 non-null  float64\n",
      " 24  V24     284807 non-null  float64\n",
      " 25  V25     284807 non-null  float64\n",
      " 26  V26     284807 non-null  float64\n",
      " 27  V27     284807 non-null  float64\n",
      " 28  V28     284807 non-null  float64\n",
      " 29  Amount  284807 non-null  float64\n",
      " 30  Class   284807 non-null  int64  \n",
      "dtypes: float64(30), int64(1)\n",
      "memory usage: 67.4 MB\n"
     ]
    }
   ],
   "source": [
    "# dataset informations\n",
    "df.info()"
   ]
  },
  {
   "cell_type": "code",
   "execution_count": 7,
   "id": "2ab89857",
   "metadata": {
    "execution": {
     "iopub.execute_input": "2023-02-03T04:53:11.385825Z",
     "iopub.status.busy": "2023-02-03T04:53:11.385454Z",
     "iopub.status.idle": "2023-02-03T04:53:11.410379Z",
     "shell.execute_reply": "2023-02-03T04:53:11.409413Z"
    },
    "papermill": {
     "duration": 0.037932,
     "end_time": "2023-02-03T04:53:11.412686",
     "exception": false,
     "start_time": "2023-02-03T04:53:11.374754",
     "status": "completed"
    },
    "tags": []
   },
   "outputs": [
    {
     "data": {
      "text/plain": [
       "Time      0\n",
       "V1        0\n",
       "V2        0\n",
       "V3        0\n",
       "V4        0\n",
       "V5        0\n",
       "V6        0\n",
       "V7        0\n",
       "V8        0\n",
       "V9        0\n",
       "V10       0\n",
       "V11       0\n",
       "V12       0\n",
       "V13       0\n",
       "V14       0\n",
       "V15       0\n",
       "V16       0\n",
       "V17       0\n",
       "V18       0\n",
       "V19       0\n",
       "V20       0\n",
       "V21       0\n",
       "V22       0\n",
       "V23       0\n",
       "V24       0\n",
       "V25       0\n",
       "V26       0\n",
       "V27       0\n",
       "V28       0\n",
       "Amount    0\n",
       "Class     0\n",
       "dtype: int64"
      ]
     },
     "execution_count": 7,
     "metadata": {},
     "output_type": "execute_result"
    }
   ],
   "source": [
    "# checking the number of missing values in each column\n",
    "df.isnull().sum()"
   ]
  },
  {
   "cell_type": "code",
   "execution_count": 8,
   "id": "2aa977b7",
   "metadata": {
    "execution": {
     "iopub.execute_input": "2023-02-03T04:53:11.434823Z",
     "iopub.status.busy": "2023-02-03T04:53:11.433731Z",
     "iopub.status.idle": "2023-02-03T04:53:11.444662Z",
     "shell.execute_reply": "2023-02-03T04:53:11.443616Z"
    },
    "papermill": {
     "duration": 0.02349,
     "end_time": "2023-02-03T04:53:11.446813",
     "exception": false,
     "start_time": "2023-02-03T04:53:11.423323",
     "status": "completed"
    },
    "tags": []
   },
   "outputs": [
    {
     "data": {
      "text/plain": [
       "0    284315\n",
       "1       492\n",
       "Name: Class, dtype: int64"
      ]
     },
     "execution_count": 8,
     "metadata": {},
     "output_type": "execute_result"
    }
   ],
   "source": [
    "# distribution of legit transactions & fraudulent transactions\n",
    "df['Class'].value_counts()"
   ]
  },
  {
   "cell_type": "markdown",
   "id": "76a67b6c",
   "metadata": {
    "papermill": {
     "duration": 0.009041,
     "end_time": "2023-02-03T04:53:11.465327",
     "exception": false,
     "start_time": "2023-02-03T04:53:11.456286",
     "status": "completed"
    },
    "tags": []
   },
   "source": [
    "# this is highly imbalanced data set\n",
    "0--> normal transaction\n",
    "1--> fraudlant transaction"
   ]
  },
  {
   "cell_type": "code",
   "execution_count": 9,
   "id": "88659aa4",
   "metadata": {
    "execution": {
     "iopub.execute_input": "2023-02-03T04:53:11.486252Z",
     "iopub.status.busy": "2023-02-03T04:53:11.485102Z",
     "iopub.status.idle": "2023-02-03T04:53:11.547859Z",
     "shell.execute_reply": "2023-02-03T04:53:11.546737Z"
    },
    "papermill": {
     "duration": 0.075855,
     "end_time": "2023-02-03T04:53:11.550493",
     "exception": false,
     "start_time": "2023-02-03T04:53:11.474638",
     "status": "completed"
    },
    "tags": []
   },
   "outputs": [],
   "source": [
    "# separating the data for analysis\n",
    "\n",
    "legit=df[df.Class==0]\n",
    "fraud=df[df.Class==1]"
   ]
  },
  {
   "cell_type": "code",
   "execution_count": 10,
   "id": "24a425c0",
   "metadata": {
    "execution": {
     "iopub.execute_input": "2023-02-03T04:53:11.571088Z",
     "iopub.status.busy": "2023-02-03T04:53:11.570685Z",
     "iopub.status.idle": "2023-02-03T04:53:11.576396Z",
     "shell.execute_reply": "2023-02-03T04:53:11.575324Z"
    },
    "papermill": {
     "duration": 0.019346,
     "end_time": "2023-02-03T04:53:11.579427",
     "exception": false,
     "start_time": "2023-02-03T04:53:11.560081",
     "status": "completed"
    },
    "tags": []
   },
   "outputs": [
    {
     "name": "stdout",
     "output_type": "stream",
     "text": [
      "(284315, 31)\n",
      "(492, 31)\n"
     ]
    }
   ],
   "source": [
    "print(legit.shape)\n",
    "print(fraud.shape)"
   ]
  },
  {
   "cell_type": "code",
   "execution_count": 11,
   "id": "5b06d94d",
   "metadata": {
    "execution": {
     "iopub.execute_input": "2023-02-03T04:53:11.601372Z",
     "iopub.status.busy": "2023-02-03T04:53:11.600965Z",
     "iopub.status.idle": "2023-02-03T04:53:11.848955Z",
     "shell.execute_reply": "2023-02-03T04:53:11.847895Z"
    },
    "papermill": {
     "duration": 0.261278,
     "end_time": "2023-02-03T04:53:11.851433",
     "exception": false,
     "start_time": "2023-02-03T04:53:11.590155",
     "status": "completed"
    },
    "tags": []
   },
   "outputs": [
    {
     "data": {
      "text/plain": [
       "<AxesSubplot:title={'center':'Bar Graph of 0 and 1 in Class column'}, xlabel='Fraud Status', ylabel='No. of Transactions'>"
      ]
     },
     "execution_count": 11,
     "metadata": {},
     "output_type": "execute_result"
    },
    {
     "data": {
      "image/png": "[encoded data removed]",
      "text/plain": [
       "<Figure size 720x720 with 1 Axes>"
      ]
     },
     "metadata": {
      "needs_background": "light"
     },
     "output_type": "display_data"
    }
   ],
   "source": [
    "df.Class.value_counts().plot(kind='bar', figsize = (10,10),xlabel = 'Fraud Status',ylabel = 'No. of Transactions', title = 'Bar Graph of 0 and 1 in Class column')\n",
    "# as we can see that 1 (fraud) is very less than 0 (Not fraud)"
   ]
  },
  {
   "cell_type": "markdown",
   "id": "80095f72",
   "metadata": {
    "papermill": {
     "duration": 0.00993,
     "end_time": "2023-02-03T04:53:11.871368",
     "exception": false,
     "start_time": "2023-02-03T04:53:11.861438",
     "status": "completed"
    },
    "tags": []
   },
   "source": [
    "**for better representation we can plot these values on logrithmic scale**"
   ]
  },
  {
   "cell_type": "code",
   "execution_count": 12,
   "id": "9f08e0d8",
   "metadata": {
    "execution": {
     "iopub.execute_input": "2023-02-03T04:53:11.892543Z",
     "iopub.status.busy": "2023-02-03T04:53:11.892155Z",
     "iopub.status.idle": "2023-02-03T04:53:12.375591Z",
     "shell.execute_reply": "2023-02-03T04:53:12.374526Z"
    },
    "papermill": {
     "duration": 0.496532,
     "end_time": "2023-02-03T04:53:12.377697",
     "exception": false,
     "start_time": "2023-02-03T04:53:11.881165",
     "status": "completed"
    },
    "tags": []
   },
   "outputs": [
    {
     "data": {
      "text/plain": [
       "<AxesSubplot:title={'center':'Logrithmic Bar Graph  of 0 and 1 in Class column'}, xlabel='Fraud Status', ylabel='No. of Transactions'>"
      ]
     },
     "execution_count": 12,
     "metadata": {},
     "output_type": "execute_result"
    },
    {
     "data": {
      "image/png": "[encoded data removed]",
      "text/plain": [
       "<Figure size 504x504 with 1 Axes>"
      ]
     },
     "metadata": {
      "needs_background": "light"
     },
     "output_type": "display_data"
    }
   ],
   "source": [
    "df.Class.value_counts().plot(kind='bar',  loglog = 'sym',figsize = (7,7),xlabel = 'Fraud Status',ylabel = 'No. of Transactions', title = 'Logrithmic Bar Graph  of 0 and 1 in Class column')"
   ]
  },
  {
   "cell_type": "code",
   "execution_count": 13,
   "id": "4b4b3b4a",
   "metadata": {
    "execution": {
     "iopub.execute_input": "2023-02-03T04:53:12.400576Z",
     "iopub.status.busy": "2023-02-03T04:53:12.399608Z",
     "iopub.status.idle": "2023-02-03T04:53:12.424316Z",
     "shell.execute_reply": "2023-02-03T04:53:12.423096Z"
    },
    "papermill": {
     "duration": 0.0383,
     "end_time": "2023-02-03T04:53:12.426555",
     "exception": false,
     "start_time": "2023-02-03T04:53:12.388255",
     "status": "completed"
    },
    "tags": []
   },
   "outputs": [
    {
     "data": {
      "text/plain": [
       "count    284315.000000\n",
       "mean         88.291022\n",
       "std         250.105092\n",
       "min           0.000000\n",
       "25%           5.650000\n",
       "50%          22.000000\n",
       "75%          77.050000\n",
       "max       25691.160000\n",
       "Name: Amount, dtype: float64"
      ]
     },
     "execution_count": 13,
     "metadata": {},
     "output_type": "execute_result"
    }
   ],
   "source": [
    "# statistical measure of data\n",
    "legit.Amount.describe()"
   ]
  },
  {
   "cell_type": "code",
   "execution_count": 14,
   "id": "ef586d8b",
   "metadata": {
    "execution": {
     "iopub.execute_input": "2023-02-03T04:53:12.449245Z",
     "iopub.status.busy": "2023-02-03T04:53:12.448846Z",
     "iopub.status.idle": "2023-02-03T04:53:12.458307Z",
     "shell.execute_reply": "2023-02-03T04:53:12.457355Z"
    },
    "papermill": {
     "duration": 0.024497,
     "end_time": "2023-02-03T04:53:12.461677",
     "exception": false,
     "start_time": "2023-02-03T04:53:12.437180",
     "status": "completed"
    },
    "tags": []
   },
   "outputs": [
    {
     "data": {
      "text/plain": [
       "count     492.000000\n",
       "mean      122.211321\n",
       "std       256.683288\n",
       "min         0.000000\n",
       "25%         1.000000\n",
       "50%         9.250000\n",
       "75%       105.890000\n",
       "max      2125.870000\n",
       "Name: Amount, dtype: float64"
      ]
     },
     "execution_count": 14,
     "metadata": {},
     "output_type": "execute_result"
    }
   ],
   "source": [
    "fraud.Amount.describe()"
   ]
  },
  {
   "cell_type": "code",
   "execution_count": 15,
   "id": "627a946a",
   "metadata": {
    "execution": {
     "iopub.execute_input": "2023-02-03T04:53:12.484562Z",
     "iopub.status.busy": "2023-02-03T04:53:12.483519Z",
     "iopub.status.idle": "2023-02-03T04:53:12.611311Z",
     "shell.execute_reply": "2023-02-03T04:53:12.610097Z"
    },
    "papermill": {
     "duration": 0.141702,
     "end_time": "2023-02-03T04:53:12.613787",
     "exception": false,
     "start_time": "2023-02-03T04:53:12.472085",
     "status": "completed"
    },
    "tags": []
   },
   "outputs": [
    {
     "data": {
      "text/html": [
       "<div>\n",
       "<style scoped>\n",
       "    .dataframe tbody tr th:only-of-type {\n",
       "        vertical-align: middle;\n",
       "    }\n",
       "\n",
       "    .dataframe tbody tr th {\n",
       "        vertical-align: top;\n",
       "    }\n",
       "\n",
       "    .dataframe thead th {\n",
       "        text-align: right;\n",
       "    }\n",
       "</style>\n",
       "<table border=\"1\" class=\"dataframe\">\n",
       "  <thead>\n",
       "    <tr style=\"text-align: right;\">\n",
       "      <th></th>\n",
       "      <th>Time</th>\n",
       "      <th>V1</th>\n",
       "      <th>V2</th>\n",
       "      <th>V3</th>\n",
       "      <th>V4</th>\n",
       "      <th>V5</th>\n",
       "      <th>V6</th>\n",
       "      <th>V7</th>\n",
       "      <th>V8</th>\n",
       "      <th>V9</th>\n",
       "      <th>...</th>\n",
       "      <th>V20</th>\n",
       "      <th>V21</th>\n",
       "      <th>V22</th>\n",
       "      <th>V23</th>\n",
       "      <th>V24</th>\n",
       "      <th>V25</th>\n",
       "      <th>V26</th>\n",
       "      <th>V27</th>\n",
       "      <th>V28</th>\n",
       "      <th>Amount</th>\n",
       "    </tr>\n",
       "    <tr>\n",
       "      <th>Class</th>\n",
       "      <th></th>\n",
       "      <th></th>\n",
       "      <th></th>\n",
       "      <th></th>\n",
       "      <th></th>\n",
       "      <th></th>\n",
       "      <th></th>\n",
       "      <th></th>\n",
       "      <th></th>\n",
       "      <th></th>\n",
       "      <th></th>\n",
       "      <th></th>\n",
       "      <th></th>\n",
       "      <th></th>\n",
       "      <th></th>\n",
       "      <th></th>\n",
       "      <th></th>\n",
       "      <th></th>\n",
       "      <th></th>\n",
       "      <th></th>\n",
       "      <th></th>\n",
       "    </tr>\n",
       "  </thead>\n",
       "  <tbody>\n",
       "    <tr>\n",
       "      <th>0</th>\n",
       "      <td>94838.202258</td>\n",
       "      <td>0.008258</td>\n",
       "      <td>-0.006271</td>\n",
       "      <td>0.012171</td>\n",
       "      <td>-0.007860</td>\n",
       "      <td>0.005453</td>\n",
       "      <td>0.002419</td>\n",
       "      <td>0.009637</td>\n",
       "      <td>-0.000987</td>\n",
       "      <td>0.004467</td>\n",
       "      <td>...</td>\n",
       "      <td>-0.000644</td>\n",
       "      <td>-0.001235</td>\n",
       "      <td>-0.000024</td>\n",
       "      <td>0.000070</td>\n",
       "      <td>0.000182</td>\n",
       "      <td>-0.000072</td>\n",
       "      <td>-0.000089</td>\n",
       "      <td>-0.000295</td>\n",
       "      <td>-0.000131</td>\n",
       "      <td>88.291022</td>\n",
       "    </tr>\n",
       "    <tr>\n",
       "      <th>1</th>\n",
       "      <td>80746.806911</td>\n",
       "      <td>-4.771948</td>\n",
       "      <td>3.623778</td>\n",
       "      <td>-7.033281</td>\n",
       "      <td>4.542029</td>\n",
       "      <td>-3.151225</td>\n",
       "      <td>-1.397737</td>\n",
       "      <td>-5.568731</td>\n",
       "      <td>0.570636</td>\n",
       "      <td>-2.581123</td>\n",
       "      <td>...</td>\n",
       "      <td>0.372319</td>\n",
       "      <td>0.713588</td>\n",
       "      <td>0.014049</td>\n",
       "      <td>-0.040308</td>\n",
       "      <td>-0.105130</td>\n",
       "      <td>0.041449</td>\n",
       "      <td>0.051648</td>\n",
       "      <td>0.170575</td>\n",
       "      <td>0.075667</td>\n",
       "      <td>122.211321</td>\n",
       "    </tr>\n",
       "  </tbody>\n",
       "</table>\n",
       "<p>2 rows × 30 columns</p>\n",
       "</div>"
      ],
      "text/plain": [
       "               Time        V1        V2        V3        V4        V5  \\\n",
       "Class                                                                   \n",
       "0      94838.202258  0.008258 -0.006271  0.012171 -0.007860  0.005453   \n",
       "1      80746.806911 -4.771948  3.623778 -7.033281  4.542029 -3.151225   \n",
       "\n",
       "             V6        V7        V8        V9  ...       V20       V21  \\\n",
       "Class                                          ...                       \n",
       "0      0.002419  0.009637 -0.000987  0.004467  ... -0.000644 -0.001235   \n",
       "1     -1.397737 -5.568731  0.570636 -2.581123  ...  0.372319  0.713588   \n",
       "\n",
       "            V22       V23       V24       V25       V26       V27       V28  \\\n",
       "Class                                                                         \n",
       "0     -0.000024  0.000070  0.000182 -0.000072 -0.000089 -0.000295 -0.000131   \n",
       "1      0.014049 -0.040308 -0.105130  0.041449  0.051648  0.170575  0.075667   \n",
       "\n",
       "           Amount  \n",
       "Class              \n",
       "0       88.291022  \n",
       "1      122.211321  \n",
       "\n",
       "[2 rows x 30 columns]"
      ]
     },
     "execution_count": 15,
     "metadata": {},
     "output_type": "execute_result"
    }
   ],
   "source": [
    "# compare the values for both transactions\n",
    "df.groupby('Class').mean()"
   ]
  },
  {
   "cell_type": "markdown",
   "id": "fb48ab65",
   "metadata": {
    "papermill": {
     "duration": 0.010266,
     "end_time": "2023-02-03T04:53:12.634781",
     "exception": false,
     "start_time": "2023-02-03T04:53:12.624515",
     "status": "completed"
    },
    "tags": []
   },
   "source": [
    "**under sampling**"
   ]
  },
  {
   "cell_type": "markdown",
   "id": "3eb3ed59",
   "metadata": {
    "papermill": {
     "duration": 0.010156,
     "end_time": "2023-02-03T04:53:12.655367",
     "exception": false,
     "start_time": "2023-02-03T04:53:12.645211",
     "status": "completed"
    },
    "tags": []
   },
   "source": [
    "# build a sample dataset containing simlilar distribution of normal transaction and fraudulant transaction\n",
    "number of fraudulant transcation -->492"
   ]
  },
  {
   "cell_type": "code",
   "execution_count": 16,
   "id": "2c11b603",
   "metadata": {
    "execution": {
     "iopub.execute_input": "2023-02-03T04:53:12.677859Z",
     "iopub.status.busy": "2023-02-03T04:53:12.677457Z",
     "iopub.status.idle": "2023-02-03T04:53:12.691056Z",
     "shell.execute_reply": "2023-02-03T04:53:12.689790Z"
    },
    "papermill": {
     "duration": 0.027648,
     "end_time": "2023-02-03T04:53:12.693436",
     "exception": false,
     "start_time": "2023-02-03T04:53:12.665788",
     "status": "completed"
    },
    "tags": []
   },
   "outputs": [],
   "source": [
    "legit_sample=legit.sample(n=492)"
   ]
  },
  {
   "cell_type": "code",
   "execution_count": 17,
   "id": "35710ce9",
   "metadata": {
    "execution": {
     "iopub.execute_input": "2023-02-03T04:53:12.716899Z",
     "iopub.status.busy": "2023-02-03T04:53:12.715857Z",
     "iopub.status.idle": "2023-02-03T04:53:12.741802Z",
     "shell.execute_reply": "2023-02-03T04:53:12.740746Z"
    },
    "papermill": {
     "duration": 0.040049,
     "end_time": "2023-02-03T04:53:12.744220",
     "exception": false,
     "start_time": "2023-02-03T04:53:12.704171",
     "status": "completed"
    },
    "tags": []
   },
   "outputs": [
    {
     "data": {
      "text/html": [
       "<div>\n",
       "<style scoped>\n",
       "    .dataframe tbody tr th:only-of-type {\n",
       "        vertical-align: middle;\n",
       "    }\n",
       "\n",
       "    .dataframe tbody tr th {\n",
       "        vertical-align: top;\n",
       "    }\n",
       "\n",
       "    .dataframe thead th {\n",
       "        text-align: right;\n",
       "    }\n",
       "</style>\n",
       "<table border=\"1\" class=\"dataframe\">\n",
       "  <thead>\n",
       "    <tr style=\"text-align: right;\">\n",
       "      <th></th>\n",
       "      <th>Time</th>\n",
       "      <th>V1</th>\n",
       "      <th>V2</th>\n",
       "      <th>V3</th>\n",
       "      <th>V4</th>\n",
       "      <th>V5</th>\n",
       "      <th>V6</th>\n",
       "      <th>V7</th>\n",
       "      <th>V8</th>\n",
       "      <th>V9</th>\n",
       "      <th>...</th>\n",
       "      <th>V21</th>\n",
       "      <th>V22</th>\n",
       "      <th>V23</th>\n",
       "      <th>V24</th>\n",
       "      <th>V25</th>\n",
       "      <th>V26</th>\n",
       "      <th>V27</th>\n",
       "      <th>V28</th>\n",
       "      <th>Amount</th>\n",
       "      <th>Class</th>\n",
       "    </tr>\n",
       "  </thead>\n",
       "  <tbody>\n",
       "    <tr>\n",
       "      <th>119359</th>\n",
       "      <td>75420.0</td>\n",
       "      <td>-1.615826</td>\n",
       "      <td>-0.700859</td>\n",
       "      <td>2.212293</td>\n",
       "      <td>-3.967948</td>\n",
       "      <td>-1.657158</td>\n",
       "      <td>-0.573544</td>\n",
       "      <td>-0.744870</td>\n",
       "      <td>0.728639</td>\n",
       "      <td>1.342439</td>\n",
       "      <td>...</td>\n",
       "      <td>-0.202260</td>\n",
       "      <td>0.061287</td>\n",
       "      <td>-0.150574</td>\n",
       "      <td>0.390132</td>\n",
       "      <td>0.680620</td>\n",
       "      <td>-0.882749</td>\n",
       "      <td>0.267834</td>\n",
       "      <td>0.021957</td>\n",
       "      <td>55.49</td>\n",
       "      <td>0</td>\n",
       "    </tr>\n",
       "    <tr>\n",
       "      <th>263042</th>\n",
       "      <td>160771.0</td>\n",
       "      <td>-0.827003</td>\n",
       "      <td>0.014884</td>\n",
       "      <td>3.381155</td>\n",
       "      <td>0.579044</td>\n",
       "      <td>-1.336814</td>\n",
       "      <td>1.418475</td>\n",
       "      <td>-0.706121</td>\n",
       "      <td>0.144756</td>\n",
       "      <td>0.377542</td>\n",
       "      <td>...</td>\n",
       "      <td>-0.242322</td>\n",
       "      <td>0.381497</td>\n",
       "      <td>-0.433890</td>\n",
       "      <td>-0.069709</td>\n",
       "      <td>0.361278</td>\n",
       "      <td>-0.227945</td>\n",
       "      <td>-0.329263</td>\n",
       "      <td>-0.131775</td>\n",
       "      <td>27.00</td>\n",
       "      <td>0</td>\n",
       "    </tr>\n",
       "    <tr>\n",
       "      <th>56719</th>\n",
       "      <td>47554.0</td>\n",
       "      <td>-1.255134</td>\n",
       "      <td>-0.483996</td>\n",
       "      <td>-0.204546</td>\n",
       "      <td>-0.725418</td>\n",
       "      <td>3.252173</td>\n",
       "      <td>3.210197</td>\n",
       "      <td>0.265124</td>\n",
       "      <td>0.950069</td>\n",
       "      <td>-0.284436</td>\n",
       "      <td>...</td>\n",
       "      <td>0.061579</td>\n",
       "      <td>-0.308285</td>\n",
       "      <td>0.176348</td>\n",
       "      <td>0.974574</td>\n",
       "      <td>0.357793</td>\n",
       "      <td>-0.585064</td>\n",
       "      <td>0.050288</td>\n",
       "      <td>0.152310</td>\n",
       "      <td>125.40</td>\n",
       "      <td>0</td>\n",
       "    </tr>\n",
       "    <tr>\n",
       "      <th>256449</th>\n",
       "      <td>157697.0</td>\n",
       "      <td>1.861449</td>\n",
       "      <td>-0.501021</td>\n",
       "      <td>0.054960</td>\n",
       "      <td>1.402734</td>\n",
       "      <td>-0.999426</td>\n",
       "      <td>-0.268014</td>\n",
       "      <td>-0.820440</td>\n",
       "      <td>0.164347</td>\n",
       "      <td>1.485624</td>\n",
       "      <td>...</td>\n",
       "      <td>0.043333</td>\n",
       "      <td>0.114506</td>\n",
       "      <td>0.249651</td>\n",
       "      <td>-0.207080</td>\n",
       "      <td>-0.400873</td>\n",
       "      <td>-0.745225</td>\n",
       "      <td>0.058052</td>\n",
       "      <td>-0.018903</td>\n",
       "      <td>45.00</td>\n",
       "      <td>0</td>\n",
       "    </tr>\n",
       "    <tr>\n",
       "      <th>213421</th>\n",
       "      <td>139251.0</td>\n",
       "      <td>-0.728409</td>\n",
       "      <td>0.350199</td>\n",
       "      <td>-0.479470</td>\n",
       "      <td>0.151706</td>\n",
       "      <td>2.362738</td>\n",
       "      <td>-1.860694</td>\n",
       "      <td>0.653995</td>\n",
       "      <td>-0.339903</td>\n",
       "      <td>-0.519973</td>\n",
       "      <td>...</td>\n",
       "      <td>0.322858</td>\n",
       "      <td>0.965385</td>\n",
       "      <td>-0.194062</td>\n",
       "      <td>-0.172014</td>\n",
       "      <td>-0.301696</td>\n",
       "      <td>-0.175936</td>\n",
       "      <td>0.034315</td>\n",
       "      <td>0.050173</td>\n",
       "      <td>1.00</td>\n",
       "      <td>0</td>\n",
       "    </tr>\n",
       "  </tbody>\n",
       "</table>\n",
       "<p>5 rows × 31 columns</p>\n",
       "</div>"
      ],
      "text/plain": [
       "            Time        V1        V2        V3        V4        V5        V6  \\\n",
       "119359   75420.0 -1.615826 -0.700859  2.212293 -3.967948 -1.657158 -0.573544   \n",
       "263042  160771.0 -0.827003  0.014884  3.381155  0.579044 -1.336814  1.418475   \n",
       "56719    47554.0 -1.255134 -0.483996 -0.204546 -0.725418  3.252173  3.210197   \n",
       "256449  157697.0  1.861449 -0.501021  0.054960  1.402734 -0.999426 -0.268014   \n",
       "213421  139251.0 -0.728409  0.350199 -0.479470  0.151706  2.362738 -1.860694   \n",
       "\n",
       "              V7        V8        V9  ...       V21       V22       V23  \\\n",
       "119359 -0.744870  0.728639  1.342439  ... -0.202260  0.061287 -0.150574   \n",
       "263042 -0.706121  0.144756  0.377542  ... -0.242322  0.381497 -0.433890   \n",
       "56719   0.265124  0.950069 -0.284436  ...  0.061579 -0.308285  0.176348   \n",
       "256449 -0.820440  0.164347  1.485624  ...  0.043333  0.114506  0.249651   \n",
       "213421  0.653995 -0.339903 -0.519973  ...  0.322858  0.965385 -0.194062   \n",
       "\n",
       "             V24       V25       V26       V27       V28  Amount  Class  \n",
       "119359  0.390132  0.680620 -0.882749  0.267834  0.021957   55.49      0  \n",
       "263042 -0.069709  0.361278 -0.227945 -0.329263 -0.131775   27.00      0  \n",
       "56719   0.974574  0.357793 -0.585064  0.050288  0.152310  125.40      0  \n",
       "256449 -0.207080 -0.400873 -0.745225  0.058052 -0.018903   45.00      0  \n",
       "213421 -0.172014 -0.301696 -0.175936  0.034315  0.050173    1.00      0  \n",
       "\n",
       "[5 rows x 31 columns]"
      ]
     },
     "execution_count": 17,
     "metadata": {},
     "output_type": "execute_result"
    }
   ],
   "source": [
    "# concatinating two data frames\n",
    "new_dataset=pd.concat([legit_sample,fraud],axis=0)\n",
    "new_dataset.head()"
   ]
  },
  {
   "cell_type": "code",
   "execution_count": 18,
   "id": "fae3ffbf",
   "metadata": {
    "execution": {
     "iopub.execute_input": "2023-02-03T04:53:12.768411Z",
     "iopub.status.busy": "2023-02-03T04:53:12.767605Z",
     "iopub.status.idle": "2023-02-03T04:53:12.791785Z",
     "shell.execute_reply": "2023-02-03T04:53:12.790959Z"
    },
    "papermill": {
     "duration": 0.0384,
     "end_time": "2023-02-03T04:53:12.793819",
     "exception": false,
     "start_time": "2023-02-03T04:53:12.755419",
     "status": "completed"
    },
    "tags": []
   },
   "outputs": [
    {
     "data": {
      "text/html": [
       "<div>\n",
       "<style scoped>\n",
       "    .dataframe tbody tr th:only-of-type {\n",
       "        vertical-align: middle;\n",
       "    }\n",
       "\n",
       "    .dataframe tbody tr th {\n",
       "        vertical-align: top;\n",
       "    }\n",
       "\n",
       "    .dataframe thead th {\n",
       "        text-align: right;\n",
       "    }\n",
       "</style>\n",
       "<table border=\"1\" class=\"dataframe\">\n",
       "  <thead>\n",
       "    <tr style=\"text-align: right;\">\n",
       "      <th></th>\n",
       "      <th>Time</th>\n",
       "      <th>V1</th>\n",
       "      <th>V2</th>\n",
       "      <th>V3</th>\n",
       "      <th>V4</th>\n",
       "      <th>V5</th>\n",
       "      <th>V6</th>\n",
       "      <th>V7</th>\n",
       "      <th>V8</th>\n",
       "      <th>V9</th>\n",
       "      <th>...</th>\n",
       "      <th>V21</th>\n",
       "      <th>V22</th>\n",
       "      <th>V23</th>\n",
       "      <th>V24</th>\n",
       "      <th>V25</th>\n",
       "      <th>V26</th>\n",
       "      <th>V27</th>\n",
       "      <th>V28</th>\n",
       "      <th>Amount</th>\n",
       "      <th>Class</th>\n",
       "    </tr>\n",
       "  </thead>\n",
       "  <tbody>\n",
       "    <tr>\n",
       "      <th>279863</th>\n",
       "      <td>169142.0</td>\n",
       "      <td>-1.927883</td>\n",
       "      <td>1.125653</td>\n",
       "      <td>-4.518331</td>\n",
       "      <td>1.749293</td>\n",
       "      <td>-1.566487</td>\n",
       "      <td>-2.010494</td>\n",
       "      <td>-0.882850</td>\n",
       "      <td>0.697211</td>\n",
       "      <td>-2.064945</td>\n",
       "      <td>...</td>\n",
       "      <td>0.778584</td>\n",
       "      <td>-0.319189</td>\n",
       "      <td>0.639419</td>\n",
       "      <td>-0.294885</td>\n",
       "      <td>0.537503</td>\n",
       "      <td>0.788395</td>\n",
       "      <td>0.292680</td>\n",
       "      <td>0.147968</td>\n",
       "      <td>390.00</td>\n",
       "      <td>1</td>\n",
       "    </tr>\n",
       "    <tr>\n",
       "      <th>280143</th>\n",
       "      <td>169347.0</td>\n",
       "      <td>1.378559</td>\n",
       "      <td>1.289381</td>\n",
       "      <td>-5.004247</td>\n",
       "      <td>1.411850</td>\n",
       "      <td>0.442581</td>\n",
       "      <td>-1.326536</td>\n",
       "      <td>-1.413170</td>\n",
       "      <td>0.248525</td>\n",
       "      <td>-1.127396</td>\n",
       "      <td>...</td>\n",
       "      <td>0.370612</td>\n",
       "      <td>0.028234</td>\n",
       "      <td>-0.145640</td>\n",
       "      <td>-0.081049</td>\n",
       "      <td>0.521875</td>\n",
       "      <td>0.739467</td>\n",
       "      <td>0.389152</td>\n",
       "      <td>0.186637</td>\n",
       "      <td>0.76</td>\n",
       "      <td>1</td>\n",
       "    </tr>\n",
       "    <tr>\n",
       "      <th>280149</th>\n",
       "      <td>169351.0</td>\n",
       "      <td>-0.676143</td>\n",
       "      <td>1.126366</td>\n",
       "      <td>-2.213700</td>\n",
       "      <td>0.468308</td>\n",
       "      <td>-1.120541</td>\n",
       "      <td>-0.003346</td>\n",
       "      <td>-2.234739</td>\n",
       "      <td>1.210158</td>\n",
       "      <td>-0.652250</td>\n",
       "      <td>...</td>\n",
       "      <td>0.751826</td>\n",
       "      <td>0.834108</td>\n",
       "      <td>0.190944</td>\n",
       "      <td>0.032070</td>\n",
       "      <td>-0.739695</td>\n",
       "      <td>0.471111</td>\n",
       "      <td>0.385107</td>\n",
       "      <td>0.194361</td>\n",
       "      <td>77.89</td>\n",
       "      <td>1</td>\n",
       "    </tr>\n",
       "    <tr>\n",
       "      <th>281144</th>\n",
       "      <td>169966.0</td>\n",
       "      <td>-3.113832</td>\n",
       "      <td>0.585864</td>\n",
       "      <td>-5.399730</td>\n",
       "      <td>1.817092</td>\n",
       "      <td>-0.840618</td>\n",
       "      <td>-2.943548</td>\n",
       "      <td>-2.208002</td>\n",
       "      <td>1.058733</td>\n",
       "      <td>-1.632333</td>\n",
       "      <td>...</td>\n",
       "      <td>0.583276</td>\n",
       "      <td>-0.269209</td>\n",
       "      <td>-0.456108</td>\n",
       "      <td>-0.183659</td>\n",
       "      <td>-0.328168</td>\n",
       "      <td>0.606116</td>\n",
       "      <td>0.884876</td>\n",
       "      <td>-0.253700</td>\n",
       "      <td>245.00</td>\n",
       "      <td>1</td>\n",
       "    </tr>\n",
       "    <tr>\n",
       "      <th>281674</th>\n",
       "      <td>170348.0</td>\n",
       "      <td>1.991976</td>\n",
       "      <td>0.158476</td>\n",
       "      <td>-2.583441</td>\n",
       "      <td>0.408670</td>\n",
       "      <td>1.151147</td>\n",
       "      <td>-0.096695</td>\n",
       "      <td>0.223050</td>\n",
       "      <td>-0.068384</td>\n",
       "      <td>0.577829</td>\n",
       "      <td>...</td>\n",
       "      <td>-0.164350</td>\n",
       "      <td>-0.295135</td>\n",
       "      <td>-0.072173</td>\n",
       "      <td>-0.450261</td>\n",
       "      <td>0.313267</td>\n",
       "      <td>-0.289617</td>\n",
       "      <td>0.002988</td>\n",
       "      <td>-0.015309</td>\n",
       "      <td>42.53</td>\n",
       "      <td>1</td>\n",
       "    </tr>\n",
       "  </tbody>\n",
       "</table>\n",
       "<p>5 rows × 31 columns</p>\n",
       "</div>"
      ],
      "text/plain": [
       "            Time        V1        V2        V3        V4        V5        V6  \\\n",
       "279863  169142.0 -1.927883  1.125653 -4.518331  1.749293 -1.566487 -2.010494   \n",
       "280143  169347.0  1.378559  1.289381 -5.004247  1.411850  0.442581 -1.326536   \n",
       "280149  169351.0 -0.676143  1.126366 -2.213700  0.468308 -1.120541 -0.003346   \n",
       "281144  169966.0 -3.113832  0.585864 -5.399730  1.817092 -0.840618 -2.943548   \n",
       "281674  170348.0  1.991976  0.158476 -2.583441  0.408670  1.151147 -0.096695   \n",
       "\n",
       "              V7        V8        V9  ...       V21       V22       V23  \\\n",
       "279863 -0.882850  0.697211 -2.064945  ...  0.778584 -0.319189  0.639419   \n",
       "280143 -1.413170  0.248525 -1.127396  ...  0.370612  0.028234 -0.145640   \n",
       "280149 -2.234739  1.210158 -0.652250  ...  0.751826  0.834108  0.190944   \n",
       "281144 -2.208002  1.058733 -1.632333  ...  0.583276 -0.269209 -0.456108   \n",
       "281674  0.223050 -0.068384  0.577829  ... -0.164350 -0.295135 -0.072173   \n",
       "\n",
       "             V24       V25       V26       V27       V28  Amount  Class  \n",
       "279863 -0.294885  0.537503  0.788395  0.292680  0.147968  390.00      1  \n",
       "280143 -0.081049  0.521875  0.739467  0.389152  0.186637    0.76      1  \n",
       "280149  0.032070 -0.739695  0.471111  0.385107  0.194361   77.89      1  \n",
       "281144 -0.183659 -0.328168  0.606116  0.884876 -0.253700  245.00      1  \n",
       "281674 -0.450261  0.313267 -0.289617  0.002988 -0.015309   42.53      1  \n",
       "\n",
       "[5 rows x 31 columns]"
      ]
     },
     "execution_count": 18,
     "metadata": {},
     "output_type": "execute_result"
    }
   ],
   "source": [
    "new_dataset.tail()"
   ]
  },
  {
   "cell_type": "code",
   "execution_count": 19,
   "id": "82e11ce1",
   "metadata": {
    "execution": {
     "iopub.execute_input": "2023-02-03T04:53:12.819056Z",
     "iopub.status.busy": "2023-02-03T04:53:12.818383Z",
     "iopub.status.idle": "2023-02-03T04:53:12.825486Z",
     "shell.execute_reply": "2023-02-03T04:53:12.824748Z"
    },
    "papermill": {
     "duration": 0.02192,
     "end_time": "2023-02-03T04:53:12.827471",
     "exception": false,
     "start_time": "2023-02-03T04:53:12.805551",
     "status": "completed"
    },
    "tags": []
   },
   "outputs": [
    {
     "data": {
      "text/plain": [
       "0    492\n",
       "1    492\n",
       "Name: Class, dtype: int64"
      ]
     },
     "execution_count": 19,
     "metadata": {},
     "output_type": "execute_result"
    }
   ],
   "source": [
    "new_dataset['Class'].value_counts()"
   ]
  },
  {
   "cell_type": "code",
   "execution_count": 20,
   "id": "60a95437",
   "metadata": {
    "execution": {
     "iopub.execute_input": "2023-02-03T04:53:12.852313Z",
     "iopub.status.busy": "2023-02-03T04:53:12.851670Z",
     "iopub.status.idle": "2023-02-03T04:53:12.874969Z",
     "shell.execute_reply": "2023-02-03T04:53:12.874174Z"
    },
    "papermill": {
     "duration": 0.037841,
     "end_time": "2023-02-03T04:53:12.876971",
     "exception": false,
     "start_time": "2023-02-03T04:53:12.839130",
     "status": "completed"
    },
    "tags": []
   },
   "outputs": [
    {
     "data": {
      "text/html": [
       "<div>\n",
       "<style scoped>\n",
       "    .dataframe tbody tr th:only-of-type {\n",
       "        vertical-align: middle;\n",
       "    }\n",
       "\n",
       "    .dataframe tbody tr th {\n",
       "        vertical-align: top;\n",
       "    }\n",
       "\n",
       "    .dataframe thead th {\n",
       "        text-align: right;\n",
       "    }\n",
       "</style>\n",
       "<table border=\"1\" class=\"dataframe\">\n",
       "  <thead>\n",
       "    <tr style=\"text-align: right;\">\n",
       "      <th></th>\n",
       "      <th>Time</th>\n",
       "      <th>V1</th>\n",
       "      <th>V2</th>\n",
       "      <th>V3</th>\n",
       "      <th>V4</th>\n",
       "      <th>V5</th>\n",
       "      <th>V6</th>\n",
       "      <th>V7</th>\n",
       "      <th>V8</th>\n",
       "      <th>V9</th>\n",
       "      <th>...</th>\n",
       "      <th>V20</th>\n",
       "      <th>V21</th>\n",
       "      <th>V22</th>\n",
       "      <th>V23</th>\n",
       "      <th>V24</th>\n",
       "      <th>V25</th>\n",
       "      <th>V26</th>\n",
       "      <th>V27</th>\n",
       "      <th>V28</th>\n",
       "      <th>Amount</th>\n",
       "    </tr>\n",
       "    <tr>\n",
       "      <th>Class</th>\n",
       "      <th></th>\n",
       "      <th></th>\n",
       "      <th></th>\n",
       "      <th></th>\n",
       "      <th></th>\n",
       "      <th></th>\n",
       "      <th></th>\n",
       "      <th></th>\n",
       "      <th></th>\n",
       "      <th></th>\n",
       "      <th></th>\n",
       "      <th></th>\n",
       "      <th></th>\n",
       "      <th></th>\n",
       "      <th></th>\n",
       "      <th></th>\n",
       "      <th></th>\n",
       "      <th></th>\n",
       "      <th></th>\n",
       "      <th></th>\n",
       "      <th></th>\n",
       "    </tr>\n",
       "  </thead>\n",
       "  <tbody>\n",
       "    <tr>\n",
       "      <th>0</th>\n",
       "      <td>95381.012195</td>\n",
       "      <td>0.114829</td>\n",
       "      <td>-0.038633</td>\n",
       "      <td>-0.064458</td>\n",
       "      <td>0.007304</td>\n",
       "      <td>-0.013771</td>\n",
       "      <td>-0.017677</td>\n",
       "      <td>-0.048362</td>\n",
       "      <td>-0.006113</td>\n",
       "      <td>-0.015214</td>\n",
       "      <td>...</td>\n",
       "      <td>-0.040635</td>\n",
       "      <td>0.008658</td>\n",
       "      <td>-0.008826</td>\n",
       "      <td>0.000473</td>\n",
       "      <td>0.017915</td>\n",
       "      <td>0.004671</td>\n",
       "      <td>-0.012230</td>\n",
       "      <td>-0.001417</td>\n",
       "      <td>-0.001105</td>\n",
       "      <td>85.411118</td>\n",
       "    </tr>\n",
       "    <tr>\n",
       "      <th>1</th>\n",
       "      <td>80746.806911</td>\n",
       "      <td>-4.771948</td>\n",
       "      <td>3.623778</td>\n",
       "      <td>-7.033281</td>\n",
       "      <td>4.542029</td>\n",
       "      <td>-3.151225</td>\n",
       "      <td>-1.397737</td>\n",
       "      <td>-5.568731</td>\n",
       "      <td>0.570636</td>\n",
       "      <td>-2.581123</td>\n",
       "      <td>...</td>\n",
       "      <td>0.372319</td>\n",
       "      <td>0.713588</td>\n",
       "      <td>0.014049</td>\n",
       "      <td>-0.040308</td>\n",
       "      <td>-0.105130</td>\n",
       "      <td>0.041449</td>\n",
       "      <td>0.051648</td>\n",
       "      <td>0.170575</td>\n",
       "      <td>0.075667</td>\n",
       "      <td>122.211321</td>\n",
       "    </tr>\n",
       "  </tbody>\n",
       "</table>\n",
       "<p>2 rows × 30 columns</p>\n",
       "</div>"
      ],
      "text/plain": [
       "               Time        V1        V2        V3        V4        V5  \\\n",
       "Class                                                                   \n",
       "0      95381.012195  0.114829 -0.038633 -0.064458  0.007304 -0.013771   \n",
       "1      80746.806911 -4.771948  3.623778 -7.033281  4.542029 -3.151225   \n",
       "\n",
       "             V6        V7        V8        V9  ...       V20       V21  \\\n",
       "Class                                          ...                       \n",
       "0     -0.017677 -0.048362 -0.006113 -0.015214  ... -0.040635  0.008658   \n",
       "1     -1.397737 -5.568731  0.570636 -2.581123  ...  0.372319  0.713588   \n",
       "\n",
       "            V22       V23       V24       V25       V26       V27       V28  \\\n",
       "Class                                                                         \n",
       "0     -0.008826  0.000473  0.017915  0.004671 -0.012230 -0.001417 -0.001105   \n",
       "1      0.014049 -0.040308 -0.105130  0.041449  0.051648  0.170575  0.075667   \n",
       "\n",
       "           Amount  \n",
       "Class              \n",
       "0       85.411118  \n",
       "1      122.211321  \n",
       "\n",
       "[2 rows x 30 columns]"
      ]
     },
     "execution_count": 20,
     "metadata": {},
     "output_type": "execute_result"
    }
   ],
   "source": [
    "new_dataset.groupby('Class').mean()"
   ]
  },
  {
   "cell_type": "markdown",
   "id": "18b2fcb8",
   "metadata": {
    "papermill": {
     "duration": 0.011137,
     "end_time": "2023-02-03T04:53:12.899827",
     "exception": false,
     "start_time": "2023-02-03T04:53:12.888690",
     "status": "completed"
    },
    "tags": []
   },
   "source": [
    "spliting the data into features and targets"
   ]
  },
  {
   "cell_type": "code",
   "execution_count": 21,
   "id": "ddb9c226",
   "metadata": {
    "execution": {
     "iopub.execute_input": "2023-02-03T04:53:12.925184Z",
     "iopub.status.busy": "2023-02-03T04:53:12.924487Z",
     "iopub.status.idle": "2023-02-03T04:53:12.929943Z",
     "shell.execute_reply": "2023-02-03T04:53:12.929200Z"
    },
    "papermill": {
     "duration": 0.020371,
     "end_time": "2023-02-03T04:53:12.931949",
     "exception": false,
     "start_time": "2023-02-03T04:53:12.911578",
     "status": "completed"
    },
    "tags": []
   },
   "outputs": [],
   "source": [
    "x=new_dataset.drop(columns = 'Class',axis=1)\n",
    "y=new_dataset['Class']"
   ]
  },
  {
   "cell_type": "code",
   "execution_count": 22,
   "id": "70bb162f",
   "metadata": {
    "execution": {
     "iopub.execute_input": "2023-02-03T04:53:12.957170Z",
     "iopub.status.busy": "2023-02-03T04:53:12.956473Z",
     "iopub.status.idle": "2023-02-03T04:53:12.973541Z",
     "shell.execute_reply": "2023-02-03T04:53:12.972365Z"
    },
    "papermill": {
     "duration": 0.0326,
     "end_time": "2023-02-03T04:53:12.976135",
     "exception": false,
     "start_time": "2023-02-03T04:53:12.943535",
     "status": "completed"
    },
    "tags": []
   },
   "outputs": [
    {
     "name": "stdout",
     "output_type": "stream",
     "text": [
      "            Time        V1        V2        V3        V4        V5        V6  \\\n",
      "119359   75420.0 -1.615826 -0.700859  2.212293 -3.967948 -1.657158 -0.573544   \n",
      "263042  160771.0 -0.827003  0.014884  3.381155  0.579044 -1.336814  1.418475   \n",
      "56719    47554.0 -1.255134 -0.483996 -0.204546 -0.725418  3.252173  3.210197   \n",
      "256449  157697.0  1.861449 -0.501021  0.054960  1.402734 -0.999426 -0.268014   \n",
      "213421  139251.0 -0.728409  0.350199 -0.479470  0.151706  2.362738 -1.860694   \n",
      "...          ...       ...       ...       ...       ...       ...       ...   \n",
      "279863  169142.0 -1.927883  1.125653 -4.518331  1.749293 -1.566487 -2.010494   \n",
      "280143  169347.0  1.378559  1.289381 -5.004247  1.411850  0.442581 -1.326536   \n",
      "280149  169351.0 -0.676143  1.126366 -2.213700  0.468308 -1.120541 -0.003346   \n",
      "281144  169966.0 -3.113832  0.585864 -5.399730  1.817092 -0.840618 -2.943548   \n",
      "281674  170348.0  1.991976  0.158476 -2.583441  0.408670  1.151147 -0.096695   \n",
      "\n",
      "              V7        V8        V9  ...       V20       V21       V22  \\\n",
      "119359 -0.744870  0.728639  1.342439  ... -0.448343 -0.202260  0.061287   \n",
      "263042 -0.706121  0.144756  0.377542  ... -0.372786 -0.242322  0.381497   \n",
      "56719   0.265124  0.950069 -0.284436  ...  0.350898  0.061579 -0.308285   \n",
      "256449 -0.820440  0.164347  1.485624  ... -0.290922  0.043333  0.114506   \n",
      "213421  0.653995 -0.339903 -0.519973  ...  0.360929  0.322858  0.965385   \n",
      "...          ...       ...       ...  ...       ...       ...       ...   \n",
      "279863 -0.882850  0.697211 -2.064945  ...  1.252967  0.778584 -0.319189   \n",
      "280143 -1.413170  0.248525 -1.127396  ...  0.226138  0.370612  0.028234   \n",
      "280149 -2.234739  1.210158 -0.652250  ...  0.247968  0.751826  0.834108   \n",
      "281144 -2.208002  1.058733 -1.632333  ...  0.306271  0.583276 -0.269209   \n",
      "281674  0.223050 -0.068384  0.577829  ... -0.017652 -0.164350 -0.295135   \n",
      "\n",
      "             V23       V24       V25       V26       V27       V28  Amount  \n",
      "119359 -0.150574  0.390132  0.680620 -0.882749  0.267834  0.021957   55.49  \n",
      "263042 -0.433890 -0.069709  0.361278 -0.227945 -0.329263 -0.131775   27.00  \n",
      "56719   0.176348  0.974574  0.357793 -0.585064  0.050288  0.152310  125.40  \n",
      "256449  0.249651 -0.207080 -0.400873 -0.745225  0.058052 -0.018903   45.00  \n",
      "213421 -0.194062 -0.172014 -0.301696 -0.175936  0.034315  0.050173    1.00  \n",
      "...          ...       ...       ...       ...       ...       ...     ...  \n",
      "279863  0.639419 -0.294885  0.537503  0.788395  0.292680  0.147968  390.00  \n",
      "280143 -0.145640 -0.081049  0.521875  0.739467  0.389152  0.186637    0.76  \n",
      "280149  0.190944  0.032070 -0.739695  0.471111  0.385107  0.194361   77.89  \n",
      "281144 -0.456108 -0.183659 -0.328168  0.606116  0.884876 -0.253700  245.00  \n",
      "281674 -0.072173 -0.450261  0.313267 -0.289617  0.002988 -0.015309   42.53  \n",
      "\n",
      "[984 rows x 30 columns]\n"
     ]
    }
   ],
   "source": [
    "print(x)"
   ]
  },
  {
   "cell_type": "code",
   "execution_count": 23,
   "id": "22da2f5b",
   "metadata": {
    "execution": {
     "iopub.execute_input": "2023-02-03T04:53:13.001815Z",
     "iopub.status.busy": "2023-02-03T04:53:13.001229Z",
     "iopub.status.idle": "2023-02-03T04:53:13.007529Z",
     "shell.execute_reply": "2023-02-03T04:53:13.005979Z"
    },
    "papermill": {
     "duration": 0.021483,
     "end_time": "2023-02-03T04:53:13.009629",
     "exception": false,
     "start_time": "2023-02-03T04:53:12.988146",
     "status": "completed"
    },
    "tags": []
   },
   "outputs": [
    {
     "name": "stdout",
     "output_type": "stream",
     "text": [
      "119359    0\n",
      "263042    0\n",
      "56719     0\n",
      "256449    0\n",
      "213421    0\n",
      "         ..\n",
      "279863    1\n",
      "280143    1\n",
      "280149    1\n",
      "281144    1\n",
      "281674    1\n",
      "Name: Class, Length: 984, dtype: int64\n"
     ]
    }
   ],
   "source": [
    "print(y)"
   ]
  },
  {
   "cell_type": "code",
   "execution_count": 24,
   "id": "ce7eb755",
   "metadata": {
    "execution": {
     "iopub.execute_input": "2023-02-03T04:53:13.035022Z",
     "iopub.status.busy": "2023-02-03T04:53:13.034618Z",
     "iopub.status.idle": "2023-02-03T04:53:13.042807Z",
     "shell.execute_reply": "2023-02-03T04:53:13.042011Z"
    },
    "papermill": {
     "duration": 0.023329,
     "end_time": "2023-02-03T04:53:13.044995",
     "exception": false,
     "start_time": "2023-02-03T04:53:13.021666",
     "status": "completed"
    },
    "tags": []
   },
   "outputs": [],
   "source": [
    "# split the data into training data & testing data\n",
    "x_train,x_test,y_train,y_test=train_test_split(x,y,test_size=0.2,stratify=y,random_state=2)"
   ]
  },
  {
   "cell_type": "code",
   "execution_count": 25,
   "id": "f352ff5e",
   "metadata": {
    "execution": {
     "iopub.execute_input": "2023-02-03T04:53:13.069700Z",
     "iopub.status.busy": "2023-02-03T04:53:13.069303Z",
     "iopub.status.idle": "2023-02-03T04:53:13.074742Z",
     "shell.execute_reply": "2023-02-03T04:53:13.073773Z"
    },
    "papermill": {
     "duration": 0.020649,
     "end_time": "2023-02-03T04:53:13.077241",
     "exception": false,
     "start_time": "2023-02-03T04:53:13.056592",
     "status": "completed"
    },
    "tags": []
   },
   "outputs": [
    {
     "name": "stdout",
     "output_type": "stream",
     "text": [
      "(984, 30) (787, 30) (197, 30)\n"
     ]
    }
   ],
   "source": [
    "print(x.shape, x_train.shape, x_test.shape)"
   ]
  },
  {
   "cell_type": "markdown",
   "id": "d660e201",
   "metadata": {
    "papermill": {
     "duration": 0.011264,
     "end_time": "2023-02-03T04:53:13.100008",
     "exception": false,
     "start_time": "2023-02-03T04:53:13.088744",
     "status": "completed"
    },
    "tags": []
   },
   "source": [
    "Model Training \n",
    "Logistic Regression"
   ]
  },
  {
   "cell_type": "code",
   "execution_count": 26,
   "id": "a70dd051",
   "metadata": {
    "execution": {
     "iopub.execute_input": "2023-02-03T04:53:13.125208Z",
     "iopub.status.busy": "2023-02-03T04:53:13.124781Z",
     "iopub.status.idle": "2023-02-03T04:53:13.129548Z",
     "shell.execute_reply": "2023-02-03T04:53:13.128707Z"
    },
    "papermill": {
     "duration": 0.019974,
     "end_time": "2023-02-03T04:53:13.131577",
     "exception": false,
     "start_time": "2023-02-03T04:53:13.111603",
     "status": "completed"
    },
    "tags": []
   },
   "outputs": [],
   "source": [
    "model = LogisticRegression()"
   ]
  },
  {
   "cell_type": "code",
   "execution_count": 27,
   "id": "a76f39f2",
   "metadata": {
    "execution": {
     "iopub.execute_input": "2023-02-03T04:53:13.156442Z",
     "iopub.status.busy": "2023-02-03T04:53:13.155853Z",
     "iopub.status.idle": "2023-02-03T04:53:13.216316Z",
     "shell.execute_reply": "2023-02-03T04:53:13.214581Z"
    },
    "papermill": {
     "duration": 0.077736,
     "end_time": "2023-02-03T04:53:13.220809",
     "exception": false,
     "start_time": "2023-02-03T04:53:13.143073",
     "status": "completed"
    },
    "tags": []
   },
   "outputs": [
    {
     "data": {
      "text/plain": [
       "LogisticRegression()"
      ]
     },
     "execution_count": 27,
     "metadata": {},
     "output_type": "execute_result"
    }
   ],
   "source": [
    "# training the Logistic Regression Model with Training Data\n",
    "model.fit(x_train, y_train)"
   ]
  },
  {
   "cell_type": "markdown",
   "id": "61f09984",
   "metadata": {
    "papermill": {
     "duration": 0.030203,
     "end_time": "2023-02-03T04:53:13.282637",
     "exception": false,
     "start_time": "2023-02-03T04:53:13.252434",
     "status": "completed"
    },
    "tags": []
   },
   "source": [
    "Model evaluation\n",
    "**Accuracy_score**"
   ]
  },
  {
   "cell_type": "code",
   "execution_count": 28,
   "id": "11359bf1",
   "metadata": {
    "execution": {
     "iopub.execute_input": "2023-02-03T04:53:13.334416Z",
     "iopub.status.busy": "2023-02-03T04:53:13.333946Z",
     "iopub.status.idle": "2023-02-03T04:53:13.343367Z",
     "shell.execute_reply": "2023-02-03T04:53:13.342035Z"
    },
    "papermill": {
     "duration": 0.033985,
     "end_time": "2023-02-03T04:53:13.347739",
     "exception": false,
     "start_time": "2023-02-03T04:53:13.313754",
     "status": "completed"
    },
    "tags": []
   },
   "outputs": [],
   "source": [
    "# accuracy on training data\n",
    "x_train_prediction = model.predict(x_train)\n",
    "training_data_accuracy = accuracy_score(x_train_prediction, y_train)"
   ]
  },
  {
   "cell_type": "code",
   "execution_count": 29,
   "id": "a1fb2169",
   "metadata": {
    "execution": {
     "iopub.execute_input": "2023-02-03T04:53:13.411712Z",
     "iopub.status.busy": "2023-02-03T04:53:13.411012Z",
     "iopub.status.idle": "2023-02-03T04:53:13.419104Z",
     "shell.execute_reply": "2023-02-03T04:53:13.417892Z"
    },
    "papermill": {
     "duration": 0.047161,
     "end_time": "2023-02-03T04:53:13.425518",
     "exception": false,
     "start_time": "2023-02-03T04:53:13.378357",
     "status": "completed"
    },
    "tags": []
   },
   "outputs": [
    {
     "name": "stdout",
     "output_type": "stream",
     "text": [
      "Accuracy on Training data :  0.9161372299872935\n"
     ]
    }
   ],
   "source": [
    "print('Accuracy on Training data : ', training_data_accuracy)"
   ]
  },
  {
   "cell_type": "code",
   "execution_count": 30,
   "id": "841de494",
   "metadata": {
    "execution": {
     "iopub.execute_input": "2023-02-03T04:53:13.473183Z",
     "iopub.status.busy": "2023-02-03T04:53:13.472749Z",
     "iopub.status.idle": "2023-02-03T04:53:13.481408Z",
     "shell.execute_reply": "2023-02-03T04:53:13.480310Z"
    },
    "papermill": {
     "duration": 0.026935,
     "end_time": "2023-02-03T04:53:13.483748",
     "exception": false,
     "start_time": "2023-02-03T04:53:13.456813",
     "status": "completed"
    },
    "tags": []
   },
   "outputs": [],
   "source": [
    "# accuracy on test data\n",
    "x_test_prediction = model.predict(x_test)\n",
    "test_data_accuracy = accuracy_score(x_test_prediction, y_test)"
   ]
  },
  {
   "cell_type": "code",
   "execution_count": 31,
   "id": "9ad8eae2",
   "metadata": {
    "execution": {
     "iopub.execute_input": "2023-02-03T04:53:13.509939Z",
     "iopub.status.busy": "2023-02-03T04:53:13.509150Z",
     "iopub.status.idle": "2023-02-03T04:53:13.515595Z",
     "shell.execute_reply": "2023-02-03T04:53:13.514190Z"
    },
    "papermill": {
     "duration": 0.022351,
     "end_time": "2023-02-03T04:53:13.518093",
     "exception": false,
     "start_time": "2023-02-03T04:53:13.495742",
     "status": "completed"
    },
    "tags": []
   },
   "outputs": [
    {
     "name": "stdout",
     "output_type": "stream",
     "text": [
      "Accuracy score on Test Data :  0.8934010152284264\n"
     ]
    }
   ],
   "source": [
    "print('Accuracy score on Test Data : ', test_data_accuracy)"
   ]
  }
 ],
 "metadata": {
  "kernelspec": {
   "display_name": "Python 3",
   "language": "python",
   "name": "python3"
  },
  "language_info": {
   "codemirror_mode": {
    "name": "ipython",
    "version": 3
   },
   "file_extension": ".py",
   "mimetype": "text/x-python",
   "name": "python",
   "nbconvert_exporter": "python",
   "pygments_lexer": "ipython3",
   "version": "3.7.12"
  },
  "papermill": {
   "default_parameters": {},
   "duration": 16.973051,
   "end_time": "2023-02-03T04:53:14.252699",
   "environment_variables": {},
   "exception": null,
   "input_path": "__notebook__.ipynb",
   "output_path": "__notebook__.ipynb",
   "parameters": {},
   "start_time": "2023-02-03T04:52:57.279648",
   "version": "2.3.4"
  }
 },
 "nbformat": 4,
 "nbformat_minor": 5
}
